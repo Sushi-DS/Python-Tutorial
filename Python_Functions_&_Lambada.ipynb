{
  "nbformat": 4,
  "nbformat_minor": 0,
  "metadata": {
    "colab": {
      "provenance": []
    },
    "kernelspec": {
      "name": "python3",
      "display_name": "Python 3"
    },
    "language_info": {
      "name": "python"
    }
  },
  "cells": [
    {
      "cell_type": "markdown",
      "source": [
        "# **1. Creating Functions with Different Numbers of Parameters and Return Types**"
      ],
      "metadata": {
        "id": "X5EBjQslJyRP"
      }
    },
    {
      "cell_type": "code",
      "execution_count": null,
      "metadata": {
        "colab": {
          "base_uri": "https://localhost:8080/"
        },
        "id": "ZXLTrRAwJF6t",
        "outputId": "1c2faf56-408e-4df9-80d0-69a39eb1ccc9"
      },
      "outputs": [
        {
          "output_type": "stream",
          "name": "stdout",
          "text": [
            "Hello, world!\n",
            "16\n",
            "6\n"
          ]
        }
      ],
      "source": [
        "# Function with no parameters and no return value\n",
        "def greet():\n",
        "    print(\"Hello, world!\")\n",
        "\n",
        "# Function with one parameter and a return value\n",
        "def square(num):\n",
        "    return num ** 2\n",
        "\n",
        "# Function with multiple parameters and return type\n",
        "def sum_numbers(a, b, c):\n",
        "    return a + b + c\n",
        "\n",
        "greet()\n",
        "print(square(4))\n",
        "print(sum_numbers(1, 2, 3))"
      ]
    },
    {
      "cell_type": "markdown",
      "source": [
        "# **2. Function Scope and Variable Accessibility**\n",
        "\n",
        "-  local (within the function) or global (accessible everywhere). Local variables are only available within the function they are defined in."
      ],
      "metadata": {
        "id": "OdAC_vm5KMP3"
      }
    },
    {
      "cell_type": "code",
      "source": [
        "x = 10  # Global variable\n",
        "\n",
        "def change_value():\n",
        "    x = 5  # Local variable (does not affect global x)\n",
        "    print(\"Inside function:\", x)\n",
        "change_value()\n",
        "print(\"Outside function:\", x)"
      ],
      "metadata": {
        "colab": {
          "base_uri": "https://localhost:8080/"
        },
        "id": "MkYuliIfKCni",
        "outputId": "ed3134d0-6fca-48d9-8c2c-41d0d71f39d5"
      },
      "execution_count": null,
      "outputs": [
        {
          "output_type": "stream",
          "name": "stdout",
          "text": [
            "Inside function: 5\n",
            "Outside function: 10\n"
          ]
        }
      ]
    },
    {
      "cell_type": "markdown",
      "source": [
        "# **3. Functions with Default Argument Values**"
      ],
      "metadata": {
        "id": "GallOKTQKinn"
      }
    },
    {
      "cell_type": "code",
      "source": [
        "#If no argument is passed for a parameter, the default value is used.\n",
        "def greet(name=\"Guest\"):\n",
        "    print(f\"Hello, {name}!\")\n",
        "\n",
        "greet(\"Alice\")\n",
        "greet()"
      ],
      "metadata": {
        "colab": {
          "base_uri": "https://localhost:8080/"
        },
        "id": "JD-Bj49PKdaC",
        "outputId": "36d1ffe4-9fb8-4105-c919-8391d5fdb27b"
      },
      "execution_count": null,
      "outputs": [
        {
          "output_type": "stream",
          "name": "stdout",
          "text": [
            "Hello, Alice!\n",
            "Hello, Guest!\n"
          ]
        }
      ]
    },
    {
      "cell_type": "markdown",
      "source": [
        "# **4. Writing Recursive Functions**\n",
        "\n",
        "#Recursive functions call themselves within their body. They are useful for tasks like traversing hierarchical data structures or solving problems like factorials or Fibonacci numbers."
      ],
      "metadata": {
        "id": "LYmyyNA5K1Ft"
      }
    },
    {
      "cell_type": "code",
      "source": [
        "def factorial(n):\n",
        "    if n == 1:\n",
        "        return 1\n",
        "    else:\n",
        "        return n * factorial(n - 1)\n",
        "\n",
        "print(factorial(5))"
      ],
      "metadata": {
        "colab": {
          "base_uri": "https://localhost:8080/"
        },
        "id": "g6yl96kWKrJm",
        "outputId": "fb6ed765-51ab-4534-9fb9-fdf3fc133fdb"
      },
      "execution_count": null,
      "outputs": [
        {
          "output_type": "stream",
          "name": "stdout",
          "text": [
            "120\n"
          ]
        }
      ]
    },
    {
      "cell_type": "markdown",
      "source": [
        "# **5. Using Docstrings to Document Functions**"
      ],
      "metadata": {
        "id": "Sd6R-h5vLQDL"
      }
    },
    {
      "cell_type": "code",
      "source": [
        "#Docstrings are used to describe what a function does. They can be accessed using Python's help() function or attributes like __doc__.\n",
        "def add(a, b):\n",
        "  '''This function adds two numbers and returns the result.'''\n",
        "  return a + b\n",
        "\n",
        "print(add(3, 4))\n",
        "print(add.__doc__)"
      ],
      "metadata": {
        "colab": {
          "base_uri": "https://localhost:8080/"
        },
        "id": "Rg8w5DTQLNEf",
        "outputId": "d67694e6-4dbc-4e01-c142-d8140069a4df"
      },
      "execution_count": null,
      "outputs": [
        {
          "output_type": "stream",
          "name": "stdout",
          "text": [
            "7\n",
            "This function adds two numbers and returns the result.\n"
          ]
        }
      ]
    },
    {
      "cell_type": "code",
      "source": [
        "def my_function():\n",
        "    '''Demonstrates triple double quotes\n",
        "    docstrings and does nothing really.'''\n",
        "\n",
        "    return None\n",
        "\n",
        "print(\"Using __doc__:\")\n",
        "print(my_function.__doc__)\n",
        "\n",
        "print(\"Using help:\")\n",
        "help(my_function)"
      ],
      "metadata": {
        "colab": {
          "base_uri": "https://localhost:8080/"
        },
        "id": "m--VlIAiOKSW",
        "outputId": "d72fc531-9132-48f5-f621-1b6459ce700c"
      },
      "execution_count": null,
      "outputs": [
        {
          "output_type": "stream",
          "name": "stdout",
          "text": [
            "Using __doc__:\n",
            "Demonstrates triple double quotes\n",
            "    docstrings and does nothing really.\n",
            "Using help:\n",
            "Help on function my_function in module __main__:\n",
            "\n",
            "my_function()\n",
            "    Demonstrates triple double quotes\n",
            "    docstrings and does nothing really.\n",
            "\n"
          ]
        }
      ]
    },
    {
      "cell_type": "code",
      "source": [
        "def multiply_numbers(a, b):\n",
        "    \"\"\"\n",
        "    Multiplies two numbers and returns the result.\n",
        "\n",
        "    Args:\n",
        "        a (int): The first number.\n",
        "        b (int): The second number.\n",
        "\n",
        "    Returns:\n",
        "        int: The product of a and b.\n",
        "    \"\"\"\n",
        "    return a * b\n",
        "print(multiply_numbers(3,5))\n"
      ],
      "metadata": {
        "colab": {
          "base_uri": "https://localhost:8080/"
        },
        "id": "UhWB6PdTOsHZ",
        "outputId": "2f35dbfa-7d62-49f3-82e8-367f0c6e8acf"
      },
      "execution_count": null,
      "outputs": [
        {
          "output_type": "stream",
          "name": "stdout",
          "text": [
            "15\n"
          ]
        }
      ]
    },
    {
      "cell_type": "code",
      "source": [
        "class Employee:\n",
        "    \"\"\"\n",
        "    A class representing an employee.\n",
        "\n",
        "    Attributes:\n",
        "        name (str): The name of the employee.\n",
        "        age (int): The age of the employee.\n",
        "        department (str): The department the employee works in.\n",
        "        salary (float): The salary of the employee.\n",
        "    \"\"\"\n",
        "\n",
        "    def __init__(self, name, age, department, salary):\n",
        "        \"\"\"\n",
        "        Initializes an Employee object.\n",
        "\n",
        "        Parameters:\n",
        "            name (str): The name of the employee.\n",
        "            age (int): The age of the employee.\n",
        "            department (str): The department the employee works in.\n",
        "            salary (float): The salary of the employee.\n",
        "        \"\"\"\n",
        "        self.name = name\n",
        "        self.age = age\n",
        "        self.department = department\n",
        "        self.salary = salary\n",
        "\n",
        "    def promote(self, raise_amount):\n",
        "        \"\"\"\n",
        "        Promotes the employee and increases their salary.\n",
        "\n",
        "        Parameters:\n",
        "            raise_amount (float): The raise amount to increase the salary.\n",
        "\n",
        "        Returns:\n",
        "            str: A message indicating the promotion and new salary.\n",
        "        \"\"\"\n",
        "        self.salary += raise_amount\n",
        "        return f\"{self.name} has been promoted! New salary: ${self.salary:.2f}\"\n",
        "\n",
        "    def retire(self):\n",
        "        \"\"\"\n",
        "        Marks the employee as retired.\n",
        "\n",
        "        Returns:\n",
        "            str: A message indicating the retirement status.\n",
        "        \"\"\"\n",
        "        # Some implementation for retiring an employee\n",
        "        return f\"{self.name} has retired. Thank you for your service!\"\n",
        "\n",
        "# Access the Class docstring using help()\n",
        "help(Employee)"
      ],
      "metadata": {
        "colab": {
          "base_uri": "https://localhost:8080/"
        },
        "id": "qWMhzeNDO9NN",
        "outputId": "f6ae2579-279d-4474-e8c1-3fb0cbdff3a9"
      },
      "execution_count": null,
      "outputs": [
        {
          "output_type": "stream",
          "name": "stdout",
          "text": [
            "Help on class Employee in module __main__:\n",
            "\n",
            "class Employee(builtins.object)\n",
            " |  Employee(name, age, department, salary)\n",
            " |  \n",
            " |  A class representing an employee.\n",
            " |  \n",
            " |  Attributes:\n",
            " |      name (str): The name of the employee.\n",
            " |      age (int): The age of the employee.\n",
            " |      department (str): The department the employee works in.\n",
            " |      salary (float): The salary of the employee.\n",
            " |  \n",
            " |  Methods defined here:\n",
            " |  \n",
            " |  __init__(self, name, age, department, salary)\n",
            " |      Initializes an Employee object.\n",
            " |      \n",
            " |      Parameters:\n",
            " |          name (str): The name of the employee.\n",
            " |          age (int): The age of the employee.\n",
            " |          department (str): The department the employee works in.\n",
            " |          salary (float): The salary of the employee.\n",
            " |  \n",
            " |  promote(self, raise_amount)\n",
            " |      Promotes the employee and increases their salary.\n",
            " |      \n",
            " |      Parameters:\n",
            " |          raise_amount (float): The raise amount to increase the salary.\n",
            " |      \n",
            " |      Returns:\n",
            " |          str: A message indicating the promotion and new salary.\n",
            " |  \n",
            " |  retire(self)\n",
            " |      Marks the employee as retired.\n",
            " |      \n",
            " |      Returns:\n",
            " |          str: A message indicating the retirement status.\n",
            " |  \n",
            " |  ----------------------------------------------------------------------\n",
            " |  Data descriptors defined here:\n",
            " |  \n",
            " |  __dict__\n",
            " |      dictionary for instance variables (if defined)\n",
            " |  \n",
            " |  __weakref__\n",
            " |      list of weak references to the object (if defined)\n",
            "\n"
          ]
        }
      ]
    },
    {
      "cell_type": "markdown",
      "source": [
        "# **1. Calculator Application**"
      ],
      "metadata": {
        "id": "IdHVZwYlPpyM"
      }
    },
    {
      "cell_type": "code",
      "source": [
        "# Simple calculator functions\n",
        "def add(a, b):\n",
        "    return a + b\n",
        "\n",
        "def subtract(a, b):\n",
        "    return a - b\n",
        "\n",
        "def multiply(a, b):\n",
        "    return a * b\n",
        "\n",
        "def divide(a, b):\n",
        "    if b == 0:\n",
        "        return \"Error! Division by zero.\"\n",
        "    return a / b\n",
        "\n",
        "# Using the calculator\n",
        "print(add(10, 5))\n",
        "print(subtract(10, 5))\n",
        "print(multiply(10, 5))\n",
        "print(divide(10, 5))\n",
        "print(divide(10, 0))"
      ],
      "metadata": {
        "colab": {
          "base_uri": "https://localhost:8080/"
        },
        "id": "lDcYkLOxPZRv",
        "outputId": "59b1d70d-d1b3-4a9b-c890-fd6da215e5aa"
      },
      "execution_count": null,
      "outputs": [
        {
          "output_type": "stream",
          "name": "stdout",
          "text": [
            "15\n",
            "5\n",
            "50\n",
            "2.0\n",
            "Error! Division by zero.\n"
          ]
        }
      ]
    },
    {
      "cell_type": "markdown",
      "source": [
        "# **2. Banking System:**\n",
        "In a banking system, different functions can handle operations like deposits, withdrawals, and balance checks. Local variables inside these functions do not affect global variables like the total account balance."
      ],
      "metadata": {
        "id": "ZOfFJ2taQCFV"
      }
    },
    {
      "cell_type": "code",
      "source": [
        "account_balance = 10000  # Global balance\n",
        "\n",
        "def deposit(amount):\n",
        "    global account_balance\n",
        "    account_balance += amount\n",
        "    print(f\"${amount} deposited. New balance: ${account_balance}\")\n",
        "\n",
        "def withdraw(amount):\n",
        "    global account_balance\n",
        "    if amount > account_balance:\n",
        "        print(\"Insufficient funds.\")\n",
        "    else:\n",
        "        account_balance -= amount\n",
        "        print(f\"${amount} withdrawn. New balance: ${account_balance}\")\n",
        "\n",
        "def check_balance():\n",
        "    print(f\"Current balance: ${account_balance}\")\n",
        "\n",
        "# Banking operations\n",
        "deposit(500)\n",
        "check_balance()\n",
        "withdraw(1500)\n",
        "check_balance()"
      ],
      "metadata": {
        "colab": {
          "base_uri": "https://localhost:8080/"
        },
        "id": "YqxfSerKP1BH",
        "outputId": "840f98b1-0914-4851-c288-d1d6e0910cc3"
      },
      "execution_count": null,
      "outputs": [
        {
          "output_type": "stream",
          "name": "stdout",
          "text": [
            "$500 deposited. New balance: $10500\n",
            "Current balance: $10500\n",
            "$1500 withdrawn. New balance: $9000\n",
            "Current balance: $9000\n"
          ]
        }
      ]
    },
    {
      "cell_type": "markdown",
      "source": [
        "## **3. Email Automation:**"
      ],
      "metadata": {
        "id": "jMkg7MJiSV7W"
      }
    },
    {
      "cell_type": "code",
      "source": [
        "def send_email(to=\"customer@example.com\", subject=\"No Subject\", body=\"\"):\n",
        "    print(f\"Sending email to {to}\")\n",
        "    print(f\"Subject: {subject}\")\n",
        "    print(f\"Body: {body}\")\n",
        "\n",
        "# Sending emails\n",
        "send_email(\"alice@example.com\", \"Welcome\", \"Hello Alice, welcome to our service!\")"
      ],
      "metadata": {
        "colab": {
          "base_uri": "https://localhost:8080/"
        },
        "id": "5pdCjfQoQU4t",
        "outputId": "407b1c77-fded-4808-b6cf-f5038a209633"
      },
      "execution_count": null,
      "outputs": [
        {
          "output_type": "stream",
          "name": "stdout",
          "text": [
            "Sending email to alice@example.com\n",
            "Subject: Welcome\n",
            "Body: Hello Alice, welcome to our service!\n"
          ]
        }
      ]
    },
    {
      "cell_type": "code",
      "source": [
        "send_email()"
      ],
      "metadata": {
        "colab": {
          "base_uri": "https://localhost:8080/"
        },
        "id": "ub1QSZX3StMv",
        "outputId": "c0024d3a-8317-4b64-f5d5-05bfa0f23bb9"
      },
      "execution_count": null,
      "outputs": [
        {
          "output_type": "stream",
          "name": "stdout",
          "text": [
            "Sending email to customer@example.com\n",
            "Subject: No Subject\n",
            "Body: \n"
          ]
        }
      ]
    },
    {
      "cell_type": "markdown",
      "source": [
        "# **4. Recursive Function in a File System**"
      ],
      "metadata": {
        "id": "3DuT-pQNS74d"
      }
    },
    {
      "cell_type": "code",
      "source": [
        "import os\n",
        "print(os.getcwd())"
      ],
      "metadata": {
        "colab": {
          "base_uri": "https://localhost:8080/"
        },
        "id": "oGnvmrb-T04a",
        "outputId": "3bcd0fbd-9cfe-4dd0-d616-4d310f26cea3"
      },
      "execution_count": null,
      "outputs": [
        {
          "output_type": "stream",
          "name": "stdout",
          "text": [
            "/content\n"
          ]
        }
      ]
    },
    {
      "cell_type": "code",
      "source": [
        "\n",
        "!mkdir -p 'E:/NCPL/Python/directory'"
      ],
      "metadata": {
        "id": "-Jk5cu5vT409"
      },
      "execution_count": null,
      "outputs": []
    },
    {
      "cell_type": "code",
      "source": [
        "def list_files(directory):\n",
        "    for item in os.listdir(directory):\n",
        "        path = os.path.join(directory, item)\n",
        "        if os.path.isdir(path):\n",
        "            print(f\"Directory: {path}\")\n",
        "            list_files(path)  # Recursive call for subdirectories\n",
        "        else:\n",
        "            print(f\"File: {path}\")\n",
        "\n",
        "# Example usage (for a local directory)\n",
        "list_files(\"E:/NCPL/Python/directory\")"
      ],
      "metadata": {
        "id": "804Etjt9SuDu"
      },
      "execution_count": null,
      "outputs": []
    },
    {
      "cell_type": "code",
      "source": [
        "#Summing a List Recursively\n",
        "def sum_list(nums):\n",
        "    # Base case: empty list returns 0\n",
        "    if len(nums) == 0:\n",
        "        return 0\n",
        "    # Recursive case: first element + sum of the rest of the list\n",
        "    else:\n",
        "        return nums[0] + sum_list(nums[1:])\n",
        "\n",
        "# Example usage\n",
        "print(sum_list([1, 2, 3, 4]))"
      ],
      "metadata": {
        "colab": {
          "base_uri": "https://localhost:8080/"
        },
        "id": "aNsfOY7lUOGJ",
        "outputId": "47a13346-27b4-46d5-f8f0-6f9b283ad63f"
      },
      "execution_count": null,
      "outputs": [
        {
          "output_type": "stream",
          "name": "stdout",
          "text": [
            "10\n"
          ]
        }
      ]
    },
    {
      "cell_type": "markdown",
      "source": [
        "# **Lambda Functions**"
      ],
      "metadata": {
        "id": "G5Ey9tlAVeP3"
      }
    },
    {
      "cell_type": "code",
      "source": [
        "add = lambda a, b: a + b\n",
        "print(add(3, 5))\n",
        "\n",
        "square = lambda x: x ** 2\n",
        "print(square(4))\n",
        "\n",
        "maximum = lambda x, y: x if x > y else y\n",
        "print(maximum(10, 15))"
      ],
      "metadata": {
        "colab": {
          "base_uri": "https://localhost:8080/"
        },
        "id": "JXT2qBr4VDBq",
        "outputId": "9abc76b1-ece8-452a-fa76-a750ac1a64c5"
      },
      "execution_count": null,
      "outputs": [
        {
          "output_type": "stream",
          "name": "stdout",
          "text": [
            "8\n",
            "16\n",
            "15\n"
          ]
        }
      ]
    },
    {
      "cell_type": "markdown",
      "source": [
        "# **2. Using Lambda Functions with Built-In Functions**"
      ],
      "metadata": {
        "id": "aeyi0Bk2Vtxe"
      }
    },
    {
      "cell_type": "code",
      "source": [
        "nums = [1, 2, 3, 4]\n",
        "squared_nums = list(map(lambda x: x ** 2, nums))\n",
        "print(squared_nums)"
      ],
      "metadata": {
        "colab": {
          "base_uri": "https://localhost:8080/"
        },
        "id": "QKWWM9WaVn1P",
        "outputId": "01a3f8a8-2745-49ba-e388-3f278c77ad42"
      },
      "execution_count": null,
      "outputs": [
        {
          "output_type": "stream",
          "name": "stdout",
          "text": [
            "[1, 4, 9, 16]\n"
          ]
        }
      ]
    },
    {
      "cell_type": "code",
      "source": [
        "nums = [1, 2, 3, 4, 5, 6]\n",
        "even_nums = list(filter(lambda x: x % 2 == 0, nums))\n",
        "print(even_nums)"
      ],
      "metadata": {
        "colab": {
          "base_uri": "https://localhost:8080/"
        },
        "id": "x3voTXhnVwcO",
        "outputId": "e5c65475-9614-4cdb-f6f7-467b35c0b648"
      },
      "execution_count": null,
      "outputs": [
        {
          "output_type": "stream",
          "name": "stdout",
          "text": [
            "[2, 4, 6]\n"
          ]
        }
      ]
    },
    {
      "cell_type": "code",
      "source": [
        "from functools import reduce\n",
        "\n",
        "nums = [1, 2, 3, 4]\n",
        "product = reduce(lambda x, y: x * y, nums)\n",
        "print(product)"
      ],
      "metadata": {
        "colab": {
          "base_uri": "https://localhost:8080/"
        },
        "id": "oWc1K-bGV542",
        "outputId": "f1a83405-273b-4461-a922-43ad99b2df83"
      },
      "execution_count": null,
      "outputs": [
        {
          "output_type": "stream",
          "name": "stdout",
          "text": [
            "24\n"
          ]
        }
      ]
    },
    {
      "cell_type": "markdown",
      "source": [
        "# **3. Comparing Lambda Functions with Regular Functions**"
      ],
      "metadata": {
        "id": "-AARsn-zXEu8"
      }
    },
    {
      "cell_type": "code",
      "source": [
        "#Single-line, anonymous functions with no return statement.\n",
        "add = lambda x, y: x + y\n",
        "print(add(5, 7))"
      ],
      "metadata": {
        "colab": {
          "base_uri": "https://localhost:8080/"
        },
        "id": "qJSUJ-3EV9ZT",
        "outputId": "34b75cc9-df11-4995-d041-20a7e069bca1"
      },
      "execution_count": null,
      "outputs": [
        {
          "output_type": "stream",
          "name": "stdout",
          "text": [
            "12\n"
          ]
        }
      ]
    },
    {
      "cell_type": "code",
      "source": [
        "# Defined using the def keyword. They can have multiple lines, explicit return statements, and documentation.\n",
        "def add(x, y):\n",
        "    return x + y\n",
        "\n",
        "print(add(5, 7))"
      ],
      "metadata": {
        "colab": {
          "base_uri": "https://localhost:8080/"
        },
        "id": "HJYJX8TOW2mW",
        "outputId": "2120b91e-56ad-4ba1-f5d3-b63d8e6a1f16"
      },
      "execution_count": null,
      "outputs": [
        {
          "output_type": "stream",
          "name": "stdout",
          "text": [
            "12\n"
          ]
        }
      ]
    },
    {
      "cell_type": "markdown",
      "source": [
        "# **Lambda Functions:**\n",
        "\n",
        "- Best for short, simple operations where defining a full function is unnecessary.\n",
        "- Commonly used as arguments to higher-order functions (map, filter, reduce, sorted).\n",
        "- Limited to a single expression and cannot contain statements or complex logic.\n",
        "# **Regular Functions:**\n",
        "\n",
        "- Best for more complex operations that require multiple expressions, loops, or conditional statements.\n",
        "- Easier to read and debug when complexity increases.\n",
        "- Can be reused multiple times throughout the codebase."
      ],
      "metadata": {
        "id": "AnF-ZBDiXfNy"
      }
    },
    {
      "cell_type": "code",
      "source": [],
      "metadata": {
        "id": "Fbjo2XjSW5j_"
      },
      "execution_count": null,
      "outputs": []
    }
  ]
}