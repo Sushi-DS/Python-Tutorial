{
  "nbformat": 4,
  "nbformat_minor": 0,
  "metadata": {
    "colab": {
      "provenance": []
    },
    "kernelspec": {
      "name": "python3",
      "display_name": "Python 3"
    },
    "language_info": {
      "name": "python"
    }
  },
  "cells": [
    {
      "cell_type": "code",
      "execution_count": null,
      "metadata": {
        "colab": {
          "base_uri": "https://localhost:8080/"
        },
        "id": "WSwoUExEnA5o",
        "outputId": "7eab3aae-6792-4cc1-d1ef-1490ccad254f"
      },
      "outputs": [
        {
          "output_type": "stream",
          "name": "stdout",
          "text": [
            "John Doe\n"
          ]
        }
      ],
      "source": [
        "#String Concatenation\n",
        "\n",
        "first_name = \"John\"\n",
        "last_name = \"Doe\"\n",
        "full_name = first_name + \" \" + last_name\n",
        "print(full_name)"
      ]
    },
    {
      "cell_type": "code",
      "source": [
        "#String Slicing\n",
        "#Slicing allows you to extract a part of a string. It uses the syntax string[start:end:step]\n",
        "\n",
        "string = \"Hello, World!\"\n",
        "print(string[0:5]) #extracts the first 5 characters.\n",
        "print(string[7:])  #extracts from index 7 to the end.\n",
        "print(string[::-1]) #reverses the string."
      ],
      "metadata": {
        "colab": {
          "base_uri": "https://localhost:8080/"
        },
        "id": "8Da-Ci6vnPqd",
        "outputId": "796969c4-70bc-4215-8bef-2ae10fd8e621"
      },
      "execution_count": null,
      "outputs": [
        {
          "output_type": "stream",
          "name": "stdout",
          "text": [
            "Hello\n",
            "World!\n",
            "!dlroW ,olleH\n"
          ]
        }
      ]
    },
    {
      "cell_type": "code",
      "source": [
        "#Finding Substrings\n",
        "# find(substring): Returns the index of the first occurrence of the substring. Returns -1 if not found.\n",
        "# in: Checks if a substring exists and returns a boolean.\n",
        "\n",
        "sentence = \"The quick brown fox\"\n",
        "print(sentence.find(\"quick\"))\n",
        "\n",
        "print(\"fox\" in sentence)\n",
        "print(sentence.count(\"o\"))\n",
        "print(sentence.startswith(\"The\"))\n",
        "print(sentence.endswith(\"fox\"))\n",
        "print(sentence.find(\"dog\")) #returns -1 if the substring is not found."
      ],
      "metadata": {
        "colab": {
          "base_uri": "https://localhost:8080/"
        },
        "id": "K197Atm-nfUM",
        "outputId": "ff2a5ae4-c508-453f-8838-44ef5fb1c555"
      },
      "execution_count": null,
      "outputs": [
        {
          "output_type": "stream",
          "name": "stdout",
          "text": [
            "4\n",
            "True\n",
            "2\n",
            "True\n",
            "True\n",
            "-1\n"
          ]
        }
      ]
    },
    {
      "cell_type": "markdown",
      "source": [
        "- upper(): Converts all characters to uppercase.\n",
        "- lower(): Converts all characters to lowercase.\n",
        "- title(): Converts the first letter of each word to uppercase (title case).\n",
        "- capitalize(): Converts only the first letter of the string to uppercase."
      ],
      "metadata": {
        "id": "vSJcNMgqpJ-h"
      }
    },
    {
      "cell_type": "code",
      "source": [
        "#Changing String Case\n",
        "\n",
        "text = \"Hello! How are you?\"\n",
        "print(text.upper())\n",
        "print(text.lower())\n",
        "print(text.title())\n",
        "print(text.capitalize())"
      ],
      "metadata": {
        "colab": {
          "base_uri": "https://localhost:8080/"
        },
        "id": "3En1v33uo0kK",
        "outputId": "29bed2d3-c421-4a28-e09f-1a313e86fc62"
      },
      "execution_count": null,
      "outputs": [
        {
          "output_type": "stream",
          "name": "stdout",
          "text": [
            "HELLO! HOW ARE YOU?\n",
            "hello! how are you?\n",
            "Hello! How Are You?\n",
            "Hello! how are you?\n"
          ]
        }
      ]
    },
    {
      "cell_type": "markdown",
      "source": [
        "# **Removing Whitespace**\n",
        "- strip(): Removes leading and trailing whitespace.\n",
        "- lstrip(): Removes leading whitespace.\n",
        "- rstrip(): Removes trailing whitespace."
      ],
      "metadata": {
        "id": "ZIqVyC1YpRVp"
      }
    },
    {
      "cell_type": "code",
      "source": [
        "text = \"  Hello, World!  \"\n",
        "\n",
        "print(text.strip())\n",
        "print(text.lstrip())\n",
        "print(text.rstrip())"
      ],
      "metadata": {
        "colab": {
          "base_uri": "https://localhost:8080/"
        },
        "id": "snSGZE0MpA3h",
        "outputId": "b9758e9b-7d40-4d37-fb76-eab122b350e7"
      },
      "execution_count": null,
      "outputs": [
        {
          "output_type": "stream",
          "name": "stdout",
          "text": [
            "Hello, World!\n",
            "Hello, World!  \n",
            "  Hello, World!\n"
          ]
        }
      ]
    },
    {
      "cell_type": "markdown",
      "source": [
        "# **Splitting and Joining Strings**\n",
        "\n",
        "- split(separator): Splits a string into a list based on a specified separator.\n",
        "- join(iterable): Joins elements of an iterable (like a list) into a string, using a specified separator.\n"
      ],
      "metadata": {
        "id": "FsG-Z3pkpdt0"
      }
    },
    {
      "cell_type": "code",
      "source": [
        "# Splitting\n",
        "sentence = \"The quick brown fox jumps over the lazy dog\"\n",
        "words = sentence.split()  # Default is splitting by space\n",
        "print(words)"
      ],
      "metadata": {
        "colab": {
          "base_uri": "https://localhost:8080/"
        },
        "id": "VvpcKbYLpbR6",
        "outputId": "5a9adc17-1925-4a8f-edda-2497d6bf880b"
      },
      "execution_count": null,
      "outputs": [
        {
          "output_type": "stream",
          "name": "stdout",
          "text": [
            "['The', 'quick', 'brown', 'fox', 'jumps', 'over', 'the', 'lazy', 'dog']\n"
          ]
        }
      ]
    },
    {
      "cell_type": "code",
      "source": [
        "# Joining\n",
        "joined_sentence = \" \".join(words)\n",
        "print(joined_sentence)"
      ],
      "metadata": {
        "colab": {
          "base_uri": "https://localhost:8080/"
        },
        "id": "rJbwt5Ylpkiv",
        "outputId": "8046a47b-272d-481d-f65d-c857c12f98b2"
      },
      "execution_count": null,
      "outputs": [
        {
          "output_type": "stream",
          "name": "stdout",
          "text": [
            "The quick brown fox jumps over the lazy dog\n"
          ]
        }
      ]
    },
    {
      "cell_type": "code",
      "source": [
        "data = \"name:John,age:30,city:New York\"\n",
        "entries = data.split(\",\")  # Split by comma\n",
        "print(entries)"
      ],
      "metadata": {
        "colab": {
          "base_uri": "https://localhost:8080/"
        },
        "id": "Qmg620xUpm9l",
        "outputId": "9b2217c9-151b-40c1-c34b-b0687504c07c"
      },
      "execution_count": null,
      "outputs": [
        {
          "output_type": "stream",
          "name": "stdout",
          "text": [
            "['name:John', 'age:30', 'city:New York']\n"
          ]
        }
      ]
    },
    {
      "cell_type": "code",
      "source": [
        "#Replacing Substrings\n",
        "sentence = \"The cat sat on the mat.\"\n",
        "new_sentence = sentence.replace(\"cat\", \"dog\")\n",
        "print(new_sentence)"
      ],
      "metadata": {
        "colab": {
          "base_uri": "https://localhost:8080/"
        },
        "id": "I-1VYPVqpz-p",
        "outputId": "c534640c-aabf-4212-a3b1-4d7953cc9ce6"
      },
      "execution_count": null,
      "outputs": [
        {
          "output_type": "stream",
          "name": "stdout",
          "text": [
            "The dog sat on the mat.\n"
          ]
        }
      ]
    },
    {
      "cell_type": "markdown",
      "source": [
        "# **String Length and Character Count**\n",
        "- len(): Returns the number of characters in a string.\n",
        "- count(substring): Counts how many times a substring appears in a string."
      ],
      "metadata": {
        "id": "flLzBmOXp7h5"
      }
    },
    {
      "cell_type": "code",
      "source": [
        "message = \"banana\"\n",
        "print(len(message))\n",
        "print(message.count('a'))"
      ],
      "metadata": {
        "colab": {
          "base_uri": "https://localhost:8080/"
        },
        "id": "EmTi6RA5p4Sc",
        "outputId": "1d6ea574-07d9-4107-e518-ec2159e35914"
      },
      "execution_count": null,
      "outputs": [
        {
          "output_type": "stream",
          "name": "stdout",
          "text": [
            "6\n",
            "3\n"
          ]
        }
      ]
    },
    {
      "cell_type": "markdown",
      "source": [
        "# **Checking String Properties**\n",
        "- startswith(substring): Checks if the string starts with a specified substring.\n",
        "- endswith(substring): Checks if the string ends with a specified substring.\n",
        "- isalpha(): Checks if all characters are alphabetic.\n",
        "- isdigit(): Checks if all characters are numeric."
      ],
      "metadata": {
        "id": "XdGGKm0tqH4g"
      }
    },
    {
      "cell_type": "code",
      "source": [
        "text = \"Python3\"\n",
        "print(text.startswith(\"Py\"))\n",
        "print(text.endswith(\"3\"))\n",
        "print(text.isalpha())\n",
        "print(text.isdigit())"
      ],
      "metadata": {
        "colab": {
          "base_uri": "https://localhost:8080/"
        },
        "id": "LE_SDOdCqD6t",
        "outputId": "b17246a1-ff85-4ea4-e258-31f14da1db33"
      },
      "execution_count": null,
      "outputs": [
        {
          "output_type": "stream",
          "name": "stdout",
          "text": [
            "True\n",
            "True\n",
            "False\n",
            "False\n"
          ]
        }
      ]
    },
    {
      "cell_type": "code",
      "source": [
        "# User input\n",
        "raw_input = input(\"Enter your email id:\")\n",
        "\n",
        "# Strip whitespace and convert to lowercase\n",
        "cleaned_input = raw_input.strip().lower()\n",
        "\n",
        "# Extract the username and domain\n",
        "username, domain = cleaned_input.split(\"@\")\n",
        "\n",
        "# Convert the username to title case\n",
        "username = username.title()\n",
        "\n",
        "print(f\"Username: {username}, Domain: {domain}\")"
      ],
      "metadata": {
        "colab": {
          "base_uri": "https://localhost:8080/"
        },
        "id": "qyy9sappqWVP",
        "outputId": "950dd2e6-5c2a-4040-c216-21b858fc3072"
      },
      "execution_count": null,
      "outputs": [
        {
          "output_type": "stream",
          "name": "stdout",
          "text": [
            "Enter your email id:abc@gmail.com\n",
            "Username: Abc, Domain: gmail.com\n"
          ]
        }
      ]
    },
    {
      "cell_type": "code",
      "source": [],
      "metadata": {
        "id": "6OzHDW9nqdsY"
      },
      "execution_count": null,
      "outputs": []
    }
  ]
}